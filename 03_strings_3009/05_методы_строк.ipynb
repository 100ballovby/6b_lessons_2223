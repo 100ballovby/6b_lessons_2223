{
 "cells": [
  {
   "cell_type": "markdown",
   "metadata": {
    "collapsed": true,
    "pycharm": {
     "is_executing": true
    }
   },
   "source": [
    "# Методы строк\n",
    "\n",
    "<p>Методы направлены на то, чтобы изменять или проверять строку на соответствие каким-либо условиям.</p>\n",
    "\n",
    "<p><code>.upper()</code> - метод приведения всех символов строки в верхний регистр.</p>"
   ]
  },
  {
   "cell_type": "code",
   "execution_count": 14,
   "metadata": {},
   "outputs": [
    {
     "name": "stdout",
     "output_type": "stream",
     "text": [
      "ПРИВЕТ\n"
     ]
    }
   ],
   "source": [
    "a = input('Введи слово: ')\n",
    "\n",
    "a = a.upper()\n",
    "\n",
    "print(a)"
   ]
  },
  {
   "cell_type": "markdown",
   "metadata": {},
   "source": [
    "<p><code>.lower()</code> - метод приведения всех символов строки в нижний регистр.</p>"
   ]
  },
  {
   "cell_type": "code",
   "execution_count": 15,
   "metadata": {},
   "outputs": [
    {
     "name": "stdout",
     "output_type": "stream",
     "text": [
      "hello!\n"
     ]
    }
   ],
   "source": [
    "word = 'HELLO!'\n",
    "\n",
    "print(word.lower())"
   ]
  },
  {
   "cell_type": "markdown",
   "metadata": {},
   "source": [
    "<p>Метод <code>.lower()</code> используется в тех случаях, когда важно, чтобы пользовательский ввод был в нижнем регистре. Например: пользователь вводит вам email при регистрации и вводит его так: <code>MyEmail@GMail.com</code>.</p>"
   ]
  },
  {
   "cell_type": "code",
   "execution_count": 16,
   "metadata": {},
   "outputs": [
    {
     "name": "stdout",
     "output_type": "stream",
     "text": [
      "False\n"
     ]
    }
   ],
   "source": [
    "email1 = 'MyEmail@GMail.com'\n",
    "email2 = 'myemail@gmail.com'\n",
    "\n",
    "print(email1 == email2)"
   ]
  },
  {
   "cell_type": "markdown",
   "metadata": {},
   "source": [
    "<p>Когда пользователь будет входить в личный кабинет после регистрации, нет гарантии, что он снова напишет свою почту так, как указал при регистрации. Поэтому задача сайта сделать так, чтобы убрать любые сложности в проверке почты.</p>"
   ]
  },
  {
   "cell_type": "code",
   "execution_count": 17,
   "metadata": {},
   "outputs": [
    {
     "name": "stdout",
     "output_type": "stream",
     "text": [
      "True\n"
     ]
    }
   ],
   "source": [
    "email1 = 'MyEmail@GMail.com'\n",
    "email2 = 'myemail@gmail.com'\n",
    "\n",
    "print(email1.lower() == email2)"
   ]
  },
  {
   "cell_type": "markdown",
   "metadata": {},
   "source": [
    "<p><code>.capitalize()</code> - метод приведения всех символов строки в нижний регистр, кроме первой буквы.</p>"
   ]
  },
  {
   "cell_type": "code",
   "execution_count": 18,
   "metadata": {},
   "outputs": [
    {
     "name": "stdout",
     "output_type": "stream",
     "text": [
      "вАСЯ\n",
      "Вася\n"
     ]
    }
   ],
   "source": [
    "b = input('Как тебя зовут? ')\n",
    "print(b)\n",
    "print(b.capitalize())"
   ]
  },
  {
   "cell_type": "markdown",
   "metadata": {},
   "source": [
    "<p><code>.replace(что_меняем, на_что_меняем, сколько_раз)</code> - метод замены одного или нескольких символов строки на другие.</p>\n",
    "\n",
    "<p>Дело в том, что строки являются неизменяемыми объектами. То есть вы не можете обратиться к символу по индексу и сказать ему, что на его месте теперь будет другой символ.</p>"
   ]
  },
  {
   "cell_type": "code",
   "execution_count": 19,
   "metadata": {},
   "outputs": [
    {
     "ename": "TypeError",
     "evalue": "'str' object does not support item assignment",
     "output_type": "error",
     "traceback": [
      "\u001B[0;31m---------------------------------------------------------------------------\u001B[0m",
      "\u001B[0;31mTypeError\u001B[0m                                 Traceback (most recent call last)",
      "\u001B[0;32m/var/folders/kg/wys5qw45109bn_kq6647wwzw0000gn/T/ipykernel_44210/3465565246.py\u001B[0m in \u001B[0;36m<module>\u001B[0;34m\u001B[0m\n\u001B[1;32m      1\u001B[0m \u001B[0mc\u001B[0m \u001B[0;34m=\u001B[0m \u001B[0;34m'лошь'\u001B[0m\u001B[0;34m\u001B[0m\u001B[0;34m\u001B[0m\u001B[0m\n\u001B[0;32m----> 2\u001B[0;31m \u001B[0mc\u001B[0m\u001B[0;34m[\u001B[0m\u001B[0;36m2\u001B[0m\u001B[0;34m]\u001B[0m \u001B[0;34m=\u001B[0m \u001B[0;34m'ж'\u001B[0m  \u001B[0;31m# пытаюсь заменить букву с индексом 2 на другую\u001B[0m\u001B[0;34m\u001B[0m\u001B[0;34m\u001B[0m\u001B[0m\n\u001B[0m",
      "\u001B[0;31mTypeError\u001B[0m: 'str' object does not support item assignment"
     ]
    }
   ],
   "source": [
    "c = 'лошь'\n",
    "c[2] = 'ж'  # пытаюсь заменить букву с индексом 2 на другую"
   ]
  },
  {
   "cell_type": "markdown",
   "metadata": {},
   "source": [
    "<p><span style=\"color: red;\">TypeError</span>: 'str' не поддерживают переназначение элементов\n",
    "</p>\n",
    "\n",
    "<p>Поэтому для замены символов строк был придуман метод <code>replace()</code></p>"
   ]
  },
  {
   "cell_type": "code",
   "execution_count": null,
   "metadata": {},
   "outputs": [],
   "source": [
    "word = 'молоко'\n",
    "print(word.replace('о', 'a', 2))  # заменяю 2 буквы о на а "
   ]
  },
  {
   "cell_type": "code",
   "execution_count": null,
   "metadata": {},
   "outputs": [],
   "source": [
    "print('Привет, Андрей!'.replace('Привет', 'Пока'))"
   ]
  }
 ],
 "metadata": {
  "kernelspec": {
   "display_name": "Python 3 (ipykernel)",
   "language": "python",
   "name": "python3"
  },
  "language_info": {
   "codemirror_mode": {
    "name": "ipython",
    "version": 3
   },
   "file_extension": ".py",
   "mimetype": "text/x-python",
   "name": "python",
   "nbconvert_exporter": "python",
   "pygments_lexer": "ipython3",
   "version": "3.9.4"
  }
 },
 "nbformat": 4,
 "nbformat_minor": 1
}
